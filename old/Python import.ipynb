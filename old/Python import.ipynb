{
 "cells": [
  {
   "cell_type": "code",
   "execution_count": 43,
   "metadata": {
    "collapsed": false
   },
   "outputs": [
    {
     "name": "stdout",
     "output_type": "stream",
     "text": [
      "Saved :\t Odesza - White Lies ft. Jenni Potts (Dé Von's Black Truths Remix).mp3\t(5.22MiB)\n"
     ]
    }
   ],
   "source": [
    "from __future__ import unicode_literals\n",
    "import youtube_dl\n",
    "import os\n",
    "import eyed3\n",
    "\n",
    "class logger(object):\n",
    "    def debug(self, msg):\n",
    "        pass\n",
    "\n",
    "    def warning(self, msg):\n",
    "        pass\n",
    "\n",
    "    def error(self, msg):\n",
    "        print(msg)\n",
    "\n",
    "\n",
    "def tag_file(filename):\n",
    "    artist, title = filename.split(\" - \")\n",
    "    audiofile = eyed3.load(filename)\n",
    "    audiofile.tag.artist = unicode(artist)\n",
    "    audiofile.tag.album_artist = unicode(artist)\n",
    "    audiofile.tag.title = unicode(title)\n",
    "    audiofile.tag.save()\n",
    "    \n",
    "    \n",
    "def hook(d):\n",
    "    if d['status'] == 'finished':\n",
    "        print'Saved :\\t %s\\t(%s)' % (d[u'filename'], d[u'_total_bytes_str'])\n",
    "        tag_file(d[u'filename'])\n",
    "        \n",
    "def download(url):      \n",
    "    ydl_opts = {\n",
    "        'format': 'bestaudio/best',\n",
    "        'outtmpl': '%(title)s.%(ext)s',\n",
    "        'writethumbnail' : True, \n",
    "        'postprocessors': [\n",
    "            {\n",
    "                'key': 'FFmpegExtractAudio',\n",
    "                'preferredcodec': 'mp3',\n",
    "                'preferredquality': '320'\n",
    "            },\n",
    "            {\n",
    "                'key': 'MetadataFromTitle',\n",
    "                'titleformat': \"%(artist)s - %(title)s\"\n",
    "            },\n",
    "            {\n",
    "                'key': 'EmbedThumbnail',\n",
    "                'already_have_thumbnail': False\n",
    "            }\n",
    "        ],\n",
    "        'logger': logger(),\n",
    "        'progress_hooks': [hook],\n",
    "    }\n",
    "    with youtube_dl.YoutubeDL(ydl_opts) as ydl:\n",
    "        ydl.download([url])\n",
    "    \n",
    "download('https://soundcloud.com/de_x_de/whiteliesremix')"
   ]
  },
  {
   "cell_type": "code",
   "execution_count": 23,
   "metadata": {
    "collapsed": false
   },
   "outputs": [
    {
     "name": "stdout",
     "output_type": "stream",
     "text": [
      "Python import.ipynb\r\n",
      "README.md\r\n",
      "Reddit PRAW Scrape.ipynb\r\n",
      "Reddit Scraping.ipynb\r\n",
      "\u001b[31maudio-scrape_bk.py\u001b[m\u001b[m*\r\n",
      "audioscrape.py\r\n",
      "audioscrape.pyc\r\n",
      "\u001b[36mold\u001b[m\u001b[m/\r\n",
      "old (server's conflicted copy 2016-05-28).zip\r\n",
      "old.zip\r\n",
      "\u001b[36mother\u001b[m\u001b[m/\r\n",
      "reddit music.ipynb\r\n",
      "\u001b[36mreddit_cache\u001b[m\u001b[m/\r\n"
     ]
    }
   ],
   "source": [
    "ls\n"
   ]
  },
  {
   "cell_type": "code",
   "execution_count": null,
   "metadata": {
    "collapsed": true
   },
   "outputs": [],
   "source": []
  },
  {
   "cell_type": "code",
   "execution_count": 48,
   "metadata": {
    "collapsed": false
   },
   "outputs": [
    {
     "name": "stdout",
     "output_type": "stream",
     "text": [
      "Odesza White Lies ft. Jenni Potts (Dé Von's Black Truths Remix)\n"
     ]
    }
   ],
   "source": [
    "filename = \"Odesza - White Lies ft. Jenni Potts (Dé Von's Black Truths Remix).mp3\"\n",
    "artist, title = filename.split(\" - \")\n",
    "print artist,title.replace('.mp3', '')\n"
   ]
  },
  {
   "cell_type": "code",
   "execution_count": 59,
   "metadata": {
    "collapsed": false
   },
   "outputs": [
    {
     "name": "stdout",
     "output_type": "stream",
     "text": [
      "/usr/fuck\n",
      "Odesza - White Lies ft. Jenni Potts (Dé Von's Black Truths Remix)\n",
      ".mp3\n"
     ]
    }
   ],
   "source": [
    "import os\n",
    "filename = \"/usr/fuck/Odesza - White Lies ft. Jenni Potts (Dé Von's Black Truths Remix).mp3\"\n",
    "[path, filename] = os.path.split(filename)\n",
    "[filename, ext] = os.path.splitext(filename)\n",
    "print path\n",
    "print filename\n",
    "print ext\n"
   ]
  },
  {
   "cell_type": "code",
   "execution_count": null,
   "metadata": {
    "collapsed": true
   },
   "outputs": [],
   "source": []
  }
 ],
 "metadata": {
  "kernelspec": {
   "display_name": "Python 2",
   "language": "python",
   "name": "python2"
  },
  "language_info": {
   "codemirror_mode": {
    "name": "ipython",
    "version": 2
   },
   "file_extension": ".py",
   "mimetype": "text/x-python",
   "name": "python",
   "nbconvert_exporter": "python",
   "pygments_lexer": "ipython2",
   "version": "2.7.11"
  }
 },
 "nbformat": 4,
 "nbformat_minor": 0
}
