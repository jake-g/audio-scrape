{
 "cells": [
  {
   "cell_type": "code",
   "execution_count": 72,
   "metadata": {
    "collapsed": false
   },
   "outputs": [
    {
     "ename": "SyntaxError",
     "evalue": "invalid syntax (<ipython-input-72-b46aee29cff5>, line 1)",
     "output_type": "error",
     "traceback": [
      "\u001b[0;36m  File \u001b[0;32m\"<ipython-input-72-b46aee29cff5>\"\u001b[0;36m, line \u001b[0;32m1\u001b[0m\n\u001b[0;31m    import audio-scrape\u001b[0m\n\u001b[0m                ^\u001b[0m\n\u001b[0;31mSyntaxError\u001b[0m\u001b[0;31m:\u001b[0m invalid syntax\n"
     ]
    }
   ],
   "source": []
  },
  {
   "cell_type": "code",
   "execution_count": 86,
   "metadata": {
    "collapsed": false
   },
   "outputs": [],
   "source": [
    "import praw\n",
    "import audioscrape as a\n",
    "\n",
    "reddit_cache = './reddit_cache/'\n",
    "\n",
    "def download_reddit(sub, sort, n_links=100):\n",
    "    posts = get_posts(sub, sort)\n",
    "    for i, post in enumerate(posts): \n",
    "        link = str(post.url)\n",
    "        if 'youtu' in link or 'soundc' in link:\n",
    "            a.download_track(link, reddit_cache)\n",
    "            print i,link\n",
    "        if i is n_links:\n",
    "            break\n",
    "    print \"Downloaded %d links\" % i\n",
    "\n",
    "def get_posts(sub, sort):\n",
    "    n = None\n",
    "    r = praw.Reddit(user_agent='Playlist Builder')\n",
    "    posts = []\n",
    "    if sort is 'hot':\n",
    "        posts = r.get_subreddit(sub).get_hot(limit=n)\n",
    "    elif sort is 'new':\n",
    "        posts = r.get_subreddit(sub).get_new(limit=n)\n",
    "    elif sort is 'rising':\n",
    "        posts = r.get_subreddit(sub).get_rising(limit=n)\n",
    "    elif sort is 'top':\n",
    "        posts = r.get_subreddit(sub).get_top(limit=n)\n",
    "    elif sort is 'all':\n",
    "        posts = r.get_subreddit(sub).get_top_from_all(limit=n)    \n",
    "    elif sort is 'day':\n",
    "        posts = r.get_subreddit(sub).get_top_from_day(limit=n)    \n",
    "    elif sort is 'hour':\n",
    "        posts = r.get_subreddit(sub).get_top_from_hour(limit=n)    \n",
    "    elif sort is 'month':\n",
    "        posts = r.get_subreddit(sub).get_top_from_month(limit=n)\n",
    "    elif sort is 'week':\n",
    "        posts = r.get_subreddit(sub).get_top_from_week(limit=n)\n",
    "    elif sort is 'year':\n",
    "        posts = r.get_subreddit(sub).get_top_from_year(limit=n)\n",
    "    else:\n",
    "        print '[Error] Invalid sorting filter'\n",
    "        \n",
    "    return posts\n",
    "\n",
    " \n",
    "    "
   ]
  },
  {
   "cell_type": "code",
   "execution_count": 87,
   "metadata": {
    "collapsed": false
   },
   "outputs": [
    {
     "name": "stdout",
     "output_type": "stream",
     "text": [
      "Version 3.4.0 of praw is outdated. Version 3.5.0 was released Tuesday May 10, 2016.\n",
      "Downloading...\n",
      "[url] https://soundcloud.com/de_x_de/whiteliesremix\n",
      "[path] ./reddit_cache/\n",
      "1 https://soundcloud.com/de_x_de/whiteliesremix\n",
      "Downloading...\n",
      "[url] https://soundcloud.com/sushiforbrainss/003final\n",
      "[path] ./reddit_cache/\n",
      "2 https://soundcloud.com/sushiforbrainss/003final\n",
      "Downloading...\n",
      "[url] https://www.youtube.com/watch?v=VZquZx1DBgI&feature=youtu.be\n",
      "[path] ./reddit_cache/\n",
      "3 https://www.youtube.com/watch?v=VZquZx1DBgI&feature=youtu.be\n",
      "Downloading...\n",
      "[url] https://youtu.be/2XGWayIs-Jg\n",
      "[path] ./reddit_cache/\n",
      "4 https://youtu.be/2XGWayIs-Jg\n",
      "Downloading...\n",
      "[url] https://soundcloud.com/oshi/weird-inside-just-ask-oshi-redo-1\n",
      "[path] ./reddit_cache/\n",
      "5 https://soundcloud.com/oshi/weird-inside-just-ask-oshi-redo-1\n",
      "Downloaded 5 links\n"
     ]
    }
   ],
   "source": [
    "# number_of_links = 20\n",
    "subreddit = 'futurebeats'\n",
    "sort = 'hot'\n",
    "download_reddit(subreddit, sort, 5)\n",
    "# download_reddit(subreddit, sort, number_of_links)"
   ]
  },
  {
   "cell_type": "code",
   "execution_count": 93,
   "metadata": {
    "collapsed": false
   },
   "outputs": [],
   "source": [
    "    command = [\n",
    "        'youtube-dl', '--audio-format best', '-x',          # command\n",
    "             # best quality audio\n",
    "        '--embed-thumbnail',            # embed art\n",
    "        '-o', 'filename',    # output path\n",
    "        'www.fuck.com']"
   ]
  },
  {
   "cell_type": "code",
   "execution_count": 94,
   "metadata": {
    "collapsed": false
   },
   "outputs": [
    {
     "data": {
      "text/plain": [
       "['youtube-dl',\n",
       " '--audio-format best',\n",
       " '-x',\n",
       " '--embed-thumbnail',\n",
       " '-o',\n",
       " 'filename',\n",
       " 'www.fuck.com']"
      ]
     },
     "execution_count": 94,
     "metadata": {},
     "output_type": "execute_result"
    }
   ],
   "source": [
    "command\n"
   ]
  },
  {
   "cell_type": "code",
   "execution_count": 96,
   "metadata": {
    "collapsed": false
   },
   "outputs": [
    {
     "data": {
      "text/plain": [
       "'youtube-dl --audio-format best -x --embed-thumbnail -o filename www.fuck.com'"
      ]
     },
     "execution_count": 96,
     "metadata": {},
     "output_type": "execute_result"
    }
   ],
   "source": [
    "' '.join(command)"
   ]
  },
  {
   "cell_type": "code",
   "execution_count": null,
   "metadata": {
    "collapsed": true
   },
   "outputs": [],
   "source": []
  }
 ],
 "metadata": {
  "kernelspec": {
   "display_name": "Python 2",
   "language": "python",
   "name": "python2"
  },
  "language_info": {
   "codemirror_mode": {
    "name": "ipython",
    "version": 2
   },
   "file_extension": ".py",
   "mimetype": "text/x-python",
   "name": "python",
   "nbconvert_exporter": "python",
   "pygments_lexer": "ipython2",
   "version": "2.7.11"
  }
 },
 "nbformat": 4,
 "nbformat_minor": 0
}
