{
 "metadata": {
  "name": "",
  "signature": "sha256:8ab490c46d638b7fb0ae6d083820b89799a0ece3f978db15265e8c9fa11c6bad"
 },
 "nbformat": 3,
 "nbformat_minor": 0,
 "worksheets": [
  {
   "cells": [
    {
     "cell_type": "code",
     "collapsed": false,
     "input": [
      "\n",
      "    \n",
      "    \n",
      "    "
     ],
     "language": "python",
     "metadata": {},
     "outputs": [
      {
       "output_type": "stream",
       "stream": "stdout",
       "text": [
        "https://vid.me/IgOV\n",
        "http://soundcloud.com/monohalcyon/sets/spring-has-sprung\n",
        "https://www.youtube.com/watch?v=1CGhx8H9h-U\n",
        "https://youtu.be/fKSQT6E6Qgc\n",
        "http://www.reddit.com/r/futurebeats/comments/31fsok/onra_is_releasing_a_new_album_on_may_15/\n",
        "http://www.reddit.com/r/futurebeats/comments/31ft14/similar_sounds_to_jai_paul/\n",
        "http://www.reddit.com/r/futurebeats/comments/31h86q/gonna_be_djing_at_coachella_soon_and_need_really/\n",
        "https://play.spotify.com/album/5eENwxjJVtw0X15fCiCrsB\n",
        "https://youtu.be/5aeukmFc3sU\n",
        "https://www.youtube.com/watch?v=MsIBb8IhF6Q\n",
        "https://soundcloud.com/40ringz/low-poly-planet\n",
        "https://soundcloud.com/solarpup/ice-cream\n",
        "https://www.youtube.com/watch?v=F4xu4WMmRjA\n",
        "https://soundcloud.com/fabric/fabriclive-80-mumdance-promo-mix\n",
        "https://www.youtube.com/watch?v=g7PEsbnoyUA\n",
        "https://soundcloud.com/casedent/isnt-always\n",
        "https://www.youtube.com/watch?v=gRrMrvCfSuk\n",
        "https://soundcloud.com/cat-soup-cfgsta/afraidalready\n",
        "https://www.youtube.com/playlist?list=PLAqSp-tDefwE8ZhoYN_iSJyjzsMmQkylf\n",
        "https://www.youtube.com/watch?v=u1Jq0X_NAY4&amp;feature=youtu.be\n",
        "http://soundcloud.com/trebuchet-1/winter-went-winner-summer-went-somewhere\n",
        "https://soundcloud.com/pharmacistbeats/edm-jam-2\n",
        "https://www.youtube.com/watch?v=4l4f5-kZirg\n",
        "https://www.youtube.com/watch?v=cG3Zu62DQ_4\n",
        "https://soundcloud.com/kind-13/lazy-friday-mix-3\n",
        "https://soundcloud.com/will_brew_12345/latch-ill-remix\n",
        "https://soundcloud.com/flamflam/jai-paul-crush-unfinished\n",
        "https://soundcloud.com/charo/fairys-fountain-when-i-need-to-fight\n",
        "https://www.youtube.com/watch?v=-VzStowFk8I\n",
        "https://vid.me/MWjg\n",
        "https://www.youtube.com/watch?v=jOvBazh974w\n",
        "https://soundcloud.com/mrbongo/lula-cortes-e-ze-ramalho-omm\n",
        "https://soundcloud.com/wedidit-collective/in_for_it\n",
        "https://www.youtube.com/watch?v=T5Mvu1eTXIA\n",
        "https://soundcloud.com/liarinth/thexx-chained-liar-remix\n",
        "https://soundcloud.com/sodapopinsky/have-a-happy-cum-bb\n",
        "https://www.youtube.com/watch?v=7iRCcjnAvtQ\n",
        "https://www.youtube.com/watch?&amp;v=FMl8eZoudJE\n",
        "https://vimeo.com/123807629?ref=tw-share\n",
        "https://soundcloud.com/fright-house-records/solar-pup-zap\n",
        "https://soundcloud.com/koji93/eyes-low-2\n",
        "https://www.youtube.com/watch?v=BH6BMfVUByw\n",
        "https://soundcloud.com/erickarchitect/arcstrumentals-vol-1\n",
        "https://soundcloud.com/thump/emika-drei-pre-album-mix\n",
        "https://soundcloud.com/dot_music/kaleidoscope\n",
        "https://soundcloud.com/mwbest/beat-cypher-vol-4-yasushige-utsunomiya\n",
        "https://www.youtube.com/watch?v=-O6kKm8VGTs\n",
        "https://soundcloud.com/koji93/conceptualeyes\n",
        "https://soundcloud.com/ekalimusic/gemini\n",
        "https://soundcloud.com/mr-rogers/too-many-notes\n"
       ]
      }
     ],
     "prompt_number": 68
    },
    {
     "cell_type": "code",
     "collapsed": false,
     "input": [
      "import praw\n",
      "from pprint import pprint\n",
      "r = praw.reddit('Submission variables testing by /u/_daimon')\n",
      "submission = r.get_submission(submission_id = \"105aru\")\n",
      "pprint(vars(submission))\n",
      "\n"
     ],
     "language": "python",
     "metadata": {},
     "outputs": [
      {
       "ename": "AttributeError",
       "evalue": "'module' object has no attribute 'reddit'",
       "output_type": "pyerr",
       "traceback": [
        "\u001b[0;31m---------------------------------------------------------------------------\u001b[0m\n\u001b[0;31mAttributeError\u001b[0m                            Traceback (most recent call last)",
        "\u001b[0;32m<ipython-input-2-ce435f1e76af>\u001b[0m in \u001b[0;36m<module>\u001b[0;34m()\u001b[0m\n\u001b[1;32m      1\u001b[0m \u001b[0;32mimport\u001b[0m \u001b[0mpraw\u001b[0m\u001b[0;34m\u001b[0m\u001b[0m\n\u001b[1;32m      2\u001b[0m \u001b[0;32mfrom\u001b[0m \u001b[0mpprint\u001b[0m \u001b[0;32mimport\u001b[0m \u001b[0mpprint\u001b[0m\u001b[0;34m\u001b[0m\u001b[0m\n\u001b[0;32m----> 3\u001b[0;31m \u001b[0mr\u001b[0m \u001b[0;34m=\u001b[0m \u001b[0mpraw\u001b[0m\u001b[0;34m.\u001b[0m\u001b[0mreddit\u001b[0m\u001b[0;34m(\u001b[0m\u001b[0;34m'Submission variables testing by /u/_daimon'\u001b[0m\u001b[0;34m)\u001b[0m\u001b[0;34m\u001b[0m\u001b[0m\n\u001b[0m\u001b[1;32m      4\u001b[0m \u001b[0msubmission\u001b[0m \u001b[0;34m=\u001b[0m \u001b[0mr\u001b[0m\u001b[0;34m.\u001b[0m\u001b[0mget_submission\u001b[0m\u001b[0;34m(\u001b[0m\u001b[0msubmission_id\u001b[0m \u001b[0;34m=\u001b[0m \u001b[0;34m\"105aru\"\u001b[0m\u001b[0;34m)\u001b[0m\u001b[0;34m\u001b[0m\u001b[0m\n\u001b[1;32m      5\u001b[0m \u001b[0mpprint\u001b[0m\u001b[0;34m(\u001b[0m\u001b[0mvars\u001b[0m\u001b[0;34m(\u001b[0m\u001b[0msubmission\u001b[0m\u001b[0;34m)\u001b[0m\u001b[0;34m)\u001b[0m\u001b[0;34m\u001b[0m\u001b[0m\n",
        "\u001b[0;31mAttributeError\u001b[0m: 'module' object has no attribute 'reddit'"
       ]
      }
     ],
     "prompt_number": 2
    },
    {
     "cell_type": "code",
     "collapsed": false,
     "input": [],
     "language": "python",
     "metadata": {},
     "outputs": []
    },
    {
     "cell_type": "code",
     "collapsed": false,
     "input": [
      "import praw\n",
      "print(vars(r.get_subreddit('futurebeats').get_hot(limit=5)))\n",
      "    "
     ],
     "language": "python",
     "metadata": {},
     "outputs": [
      {
       "ename": "NameError",
       "evalue": "name 'r' is not defined",
       "output_type": "pyerr",
       "traceback": [
        "\u001b[0;31m---------------------------------------------------------------------------\u001b[0m\n\u001b[0;31mNameError\u001b[0m                                 Traceback (most recent call last)",
        "\u001b[0;32m<ipython-input-3-23e90eafe819>\u001b[0m in \u001b[0;36m<module>\u001b[0;34m()\u001b[0m\n\u001b[1;32m      1\u001b[0m \u001b[0;32mimport\u001b[0m \u001b[0mpraw\u001b[0m\u001b[0;34m\u001b[0m\u001b[0m\n\u001b[0;32m----> 2\u001b[0;31m \u001b[0;32mprint\u001b[0m\u001b[0;34m(\u001b[0m\u001b[0mvars\u001b[0m\u001b[0;34m(\u001b[0m\u001b[0mr\u001b[0m\u001b[0;34m.\u001b[0m\u001b[0mget_subreddit\u001b[0m\u001b[0;34m(\u001b[0m\u001b[0;34m'futurebeats'\u001b[0m\u001b[0;34m)\u001b[0m\u001b[0;34m.\u001b[0m\u001b[0mget_hot\u001b[0m\u001b[0;34m(\u001b[0m\u001b[0mlimit\u001b[0m\u001b[0;34m=\u001b[0m\u001b[0;36m5\u001b[0m\u001b[0;34m)\u001b[0m\u001b[0;34m)\u001b[0m\u001b[0;34m)\u001b[0m\u001b[0;34m\u001b[0m\u001b[0m\n\u001b[0m\u001b[1;32m      3\u001b[0m \u001b[0;34m\u001b[0m\u001b[0m\n",
        "\u001b[0;31mNameError\u001b[0m: name 'r' is not defined"
       ]
      }
     ],
     "prompt_number": 3
    },
    {
     "cell_type": "code",
     "collapsed": false,
     "input": [],
     "language": "python",
     "metadata": {},
     "outputs": [],
     "prompt_number": 2
    },
    {
     "cell_type": "code",
     "collapsed": false,
     "input": [],
     "language": "python",
     "metadata": {},
     "outputs": []
    },
    {
     "cell_type": "code",
     "collapsed": false,
     "input": [
      "import praw\n",
      "\n",
      "user_agent = praw.Reddit(\"my_cool_user_agent\")\n",
      "link = \"http://www.reddit.com/r/futurebeats/\"\n",
      "submission = user_agent.get_submission(link)\n",
      "print submission.url"
     ],
     "language": "python",
     "metadata": {},
     "outputs": [
      {
       "ename": "TypeError",
       "evalue": "string indices must be integers",
       "output_type": "pyerr",
       "traceback": [
        "\u001b[0;31m---------------------------------------------------------------------------\u001b[0m\n\u001b[0;31mTypeError\u001b[0m                                 Traceback (most recent call last)",
        "\u001b[0;32m<ipython-input-1-a1713fc75a40>\u001b[0m in \u001b[0;36m<module>\u001b[0;34m()\u001b[0m\n\u001b[1;32m      3\u001b[0m \u001b[0muser_agent\u001b[0m \u001b[0;34m=\u001b[0m \u001b[0mpraw\u001b[0m\u001b[0;34m.\u001b[0m\u001b[0mReddit\u001b[0m\u001b[0;34m(\u001b[0m\u001b[0;34m\"my_cool_user_agent\"\u001b[0m\u001b[0;34m)\u001b[0m\u001b[0;34m\u001b[0m\u001b[0m\n\u001b[1;32m      4\u001b[0m \u001b[0mlink\u001b[0m \u001b[0;34m=\u001b[0m \u001b[0;34m\"http://www.reddit.com/r/futurebeats/\"\u001b[0m\u001b[0;34m\u001b[0m\u001b[0m\n\u001b[0;32m----> 5\u001b[0;31m \u001b[0msubmission\u001b[0m \u001b[0;34m=\u001b[0m \u001b[0muser_agent\u001b[0m\u001b[0;34m.\u001b[0m\u001b[0mget_submission\u001b[0m\u001b[0;34m(\u001b[0m\u001b[0mlink\u001b[0m\u001b[0;34m)\u001b[0m\u001b[0;34m\u001b[0m\u001b[0m\n\u001b[0m\u001b[1;32m      6\u001b[0m \u001b[0;32mprint\u001b[0m \u001b[0msubmission\u001b[0m\u001b[0;34m.\u001b[0m\u001b[0murl\u001b[0m\u001b[0;34m\u001b[0m\u001b[0m\n",
        "\u001b[0;32m/usr/local/lib/python2.7/site-packages/praw/__init__.pyc\u001b[0m in \u001b[0;36mget_submission\u001b[0;34m(self, url, submission_id, comment_limit, comment_sort, params)\u001b[0m\n\u001b[1;32m    981\u001b[0m                                            \u001b[0mcomment_limit\u001b[0m\u001b[0;34m=\u001b[0m\u001b[0mcomment_limit\u001b[0m\u001b[0;34m,\u001b[0m\u001b[0;34m\u001b[0m\u001b[0m\n\u001b[1;32m    982\u001b[0m                                            \u001b[0mcomment_sort\u001b[0m\u001b[0;34m=\u001b[0m\u001b[0mcomment_sort\u001b[0m\u001b[0;34m,\u001b[0m\u001b[0;34m\u001b[0m\u001b[0m\n\u001b[0;32m--> 983\u001b[0;31m                                            params=params)\n\u001b[0m\u001b[1;32m    984\u001b[0m \u001b[0;34m\u001b[0m\u001b[0m\n\u001b[1;32m    985\u001b[0m     \u001b[0;32mdef\u001b[0m \u001b[0mget_submissions\u001b[0m\u001b[0;34m(\u001b[0m\u001b[0mself\u001b[0m\u001b[0;34m,\u001b[0m \u001b[0mfullnames\u001b[0m\u001b[0;34m,\u001b[0m \u001b[0;34m*\u001b[0m\u001b[0margs\u001b[0m\u001b[0;34m,\u001b[0m \u001b[0;34m**\u001b[0m\u001b[0mkwargs\u001b[0m\u001b[0;34m)\u001b[0m\u001b[0;34m:\u001b[0m\u001b[0;34m\u001b[0m\u001b[0m\n",
        "\u001b[0;32m/usr/local/lib/python2.7/site-packages/praw/decorators.pyc\u001b[0m in \u001b[0;36mwrapped\u001b[0;34m(cls, *args, **kwargs)\u001b[0m\n\u001b[1;32m    336\u001b[0m                 \u001b[0;32mraise\u001b[0m \u001b[0merrors\u001b[0m\u001b[0;34m.\u001b[0m\u001b[0mLoginRequired\u001b[0m\u001b[0;34m(\u001b[0m\u001b[0mfunction\u001b[0m\u001b[0;34m.\u001b[0m\u001b[0m__name__\u001b[0m\u001b[0;34m)\u001b[0m\u001b[0;34m\u001b[0m\u001b[0m\n\u001b[1;32m    337\u001b[0m             \u001b[0;32mtry\u001b[0m\u001b[0;34m:\u001b[0m\u001b[0;34m\u001b[0m\u001b[0m\n\u001b[0;32m--> 338\u001b[0;31m                 \u001b[0;32mreturn\u001b[0m \u001b[0mfunction\u001b[0m\u001b[0;34m(\u001b[0m\u001b[0mcls\u001b[0m\u001b[0;34m,\u001b[0m \u001b[0;34m*\u001b[0m\u001b[0margs\u001b[0m\u001b[0;34m,\u001b[0m \u001b[0;34m**\u001b[0m\u001b[0mkwargs\u001b[0m\u001b[0;34m)\u001b[0m\u001b[0;34m\u001b[0m\u001b[0m\n\u001b[0m\u001b[1;32m    339\u001b[0m             \u001b[0;32mfinally\u001b[0m\u001b[0;34m:\u001b[0m\u001b[0;34m\u001b[0m\u001b[0m\n\u001b[1;32m    340\u001b[0m                 \u001b[0mobj\u001b[0m\u001b[0;34m.\u001b[0m\u001b[0m_use_oauth\u001b[0m \u001b[0;34m=\u001b[0m \u001b[0mFalse\u001b[0m  \u001b[0;31m# pylint: disable-msg=W0212\u001b[0m\u001b[0;34m\u001b[0m\u001b[0m\n",
        "\u001b[0;32m/usr/local/lib/python2.7/site-packages/praw/objects.pyc\u001b[0m in \u001b[0;36mfrom_url\u001b[0;34m(reddit_session, url, comment_limit, comment_sort, comments_only, params)\u001b[0m\n\u001b[1;32m    958\u001b[0m         \u001b[0;32mif\u001b[0m \u001b[0mcomments_only\u001b[0m\u001b[0;34m:\u001b[0m\u001b[0;34m\u001b[0m\u001b[0m\n\u001b[1;32m    959\u001b[0m             \u001b[0;32mreturn\u001b[0m \u001b[0mc_info\u001b[0m\u001b[0;34m[\u001b[0m\u001b[0;34m'data'\u001b[0m\u001b[0;34m]\u001b[0m\u001b[0;34m[\u001b[0m\u001b[0;34m'children'\u001b[0m\u001b[0;34m]\u001b[0m\u001b[0;34m\u001b[0m\u001b[0m\n\u001b[0;32m--> 960\u001b[0;31m         \u001b[0msubmission\u001b[0m \u001b[0;34m=\u001b[0m \u001b[0ms_info\u001b[0m\u001b[0;34m[\u001b[0m\u001b[0;34m'data'\u001b[0m\u001b[0;34m]\u001b[0m\u001b[0;34m[\u001b[0m\u001b[0;34m'children'\u001b[0m\u001b[0;34m]\u001b[0m\u001b[0;34m[\u001b[0m\u001b[0;36m0\u001b[0m\u001b[0;34m]\u001b[0m\u001b[0;34m\u001b[0m\u001b[0m\n\u001b[0m\u001b[1;32m    961\u001b[0m         \u001b[0msubmission\u001b[0m\u001b[0;34m.\u001b[0m\u001b[0mcomments\u001b[0m \u001b[0;34m=\u001b[0m \u001b[0mc_info\u001b[0m\u001b[0;34m[\u001b[0m\u001b[0;34m'data'\u001b[0m\u001b[0;34m]\u001b[0m\u001b[0;34m[\u001b[0m\u001b[0;34m'children'\u001b[0m\u001b[0;34m]\u001b[0m\u001b[0;34m\u001b[0m\u001b[0m\n\u001b[1;32m    962\u001b[0m         \u001b[0msubmission\u001b[0m\u001b[0;34m.\u001b[0m\u001b[0m_comment_sort\u001b[0m \u001b[0;34m=\u001b[0m \u001b[0mcomment_sort\u001b[0m  \u001b[0;31m# pylint: disable-msg=W0212\u001b[0m\u001b[0;34m\u001b[0m\u001b[0m\n",
        "\u001b[0;31mTypeError\u001b[0m: string indices must be integers"
       ]
      }
     ],
     "prompt_number": 1
    },
    {
     "cell_type": "code",
     "collapsed": false,
     "input": [],
     "language": "python",
     "metadata": {},
     "outputs": []
    },
    {
     "cell_type": "code",
     "collapsed": false,
     "input": [
      "import logging\n",
      "import praw\n",
      "\n",
      "r = praw.Reddit(user_agent='Subreddit Parse Bot 2000')\n",
      "for comment in r.get_subreddit('Python').get_comments(limit=200):\n",
      "    "
     ],
     "language": "python",
     "metadata": {},
     "outputs": [
      {
       "ename": "IndentationError",
       "evalue": "expected an indented block (<ipython-input-51-4ff72f9ef46c>, line 5)",
       "output_type": "pyerr",
       "traceback": [
        "\u001b[0;36m  File \u001b[0;32m\"<ipython-input-51-4ff72f9ef46c>\"\u001b[0;36m, line \u001b[0;32m5\u001b[0m\n\u001b[0;31m    for comment in r.get_subreddit('Python').get_comments(limit=200):\u001b[0m\n\u001b[0m                                                                     ^\u001b[0m\n\u001b[0;31mIndentationError\u001b[0m\u001b[0;31m:\u001b[0m expected an indented block\n"
       ]
      }
     ],
     "prompt_number": 51
    },
    {
     "cell_type": "code",
     "collapsed": false,
     "input": [
      "import praw\n",
      "\n",
      "user_agent = praw.Reddit(\"my_cool_user_agent\")\n",
      "link = \"http://www.reddit.com/r/AdviceAnimals/comments/\" + \\\n",
      "        \"1adu71/apparently_people_still_need_to_hear_this/\"\n",
      "submission = user_agent.get_submission(link)\n",
      "print submission.url"
     ],
     "language": "python",
     "metadata": {},
     "outputs": []
    }
   ],
   "metadata": {}
  }
 ]
}