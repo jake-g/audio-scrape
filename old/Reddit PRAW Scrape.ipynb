{
 "metadata": {
  "name": "",
  "signature": "sha256:63a8ccd32976f8c61df28c1d1b7ec29d1dd8e19873024ce6541c3c780d0b3562"
 },
 "nbformat": 3,
 "nbformat_minor": 0,
 "worksheets": [
  {
   "cells": [
    {
     "cell_type": "markdown",
     "metadata": {},
     "source": [
      "**Notes**\n",
      "Change your client\u2019s `user-agent` string to something unique and descriptive, preferably referencing your reddit username.\n",
      "\n",
      "Use the function `get_redditor()` to get a Redditor instance that represents a user on reddit. In the following case user will provide access to the reddit user\n",
      "\n",
      "Functions `get_comments()` and `get_submitted()` get that redditor\u2019s comments and submissions. Both are a part of the superclass Thing as mentioned on the reddit API wiki page. Both functions can be called with the parameter `limit`, which limits how many things we receive. As a default, reddit returns 25 items. When the limit is set to `None`, PRAW will try to retrieve all the things.\n",
      "\n",
      "Take the generator containing things (either comments or submissions) and iterate through them to create a dictionary with the subreddit display names (like python or askreddit) as keys and the karma obtained in those subreddits as values "
     ]
    },
    {
     "cell_type": "code",
     "collapsed": false,
     "input": [
      "import praw\n",
      "\n",
      "user_agent = (\"Karma breakdown 1.0 by /u/omonoid\")\n",
      "r = praw.Reddit(user_agent=user_agent)\n",
      "thing_limit = 10\n",
      "user_name = \"omonoid\"\n",
      "user = r.get_redditor(user_name)\n",
      "gen = user.get_submitted(limit=thing_limit)\n",
      "karma_by_subreddit = {}\n",
      "for thing in gen:\n",
      "    subreddit = thing.subreddit.display_name\n",
      "    karma_by_subreddit[subreddit] = (karma_by_subreddit.get(subreddit, 0)\n",
      "                                     + thing.score)\n",
      "import pprint\n",
      "pprint.pprint(karma_by_subreddit)"
     ],
     "language": "python",
     "metadata": {},
     "outputs": [
      {
       "output_type": "stream",
       "stream": "stdout",
       "text": [
        "{u'HipHopInstrumentals': 1,\n",
        " u'futurebeats': 433,\n",
        " u'futurepopmusic': 5,\n",
        " u'listentothis': 2}\n"
       ]
      }
     ],
     "prompt_number": 1
    },
    {
     "cell_type": "code",
     "collapsed": false,
     "input": [
      "\"\"\"\"\n",
      "Question Discover Program\n",
      "\n",
      "Tutorial program for PRAW:\n",
      "See https://github.com/praw-dev/praw/wiki/Writing-A-Bot/\n",
      "\"\"\"\n",
      "\n",
      "import time\n",
      "\n",
      "import praw\n",
      "\n",
      "r = praw.Reddit('PRAW related-question monitor by u/_Daimon_ v 1.0.'\n",
      "                'Url: https://praw.readthedocs.org/en/latest/'\n",
      "                'pages/writing_a_bot.html')\n",
      "r.login()\n",
      "already_done = []\n",
      "\n",
      "prawWords = ['praw', 'reddit_api', 'mellort']\n",
      "while True:\n",
      "    subreddit = r.get_subreddit('learnpython')\n",
      "    for submission in subreddit.get_hot(limit=10):\n",
      "        op_text = submission.selftext.lower()\n",
      "        has_praw = any(string in op_text for string in prawWords)\n",
      "        # Test if it contains a PRAW-related question\n",
      "        if submission.id not in already_done and has_praw:\n",
      "            msg = '[PRAW related thread](%s)' % submission.short_link\n",
      "            r.send_message('_Daimon_', 'PRAW Thread', msg)\n",
      "            already_done.append(submission.id)\n",
      "    time.sleep(1800)"
     ],
     "language": "python",
     "metadata": {},
     "outputs": [
      {
       "output_type": "stream",
       "stream": "stdout",
       "text": [
        "Username: "
       ]
      }
     ]
    },
    {
     "cell_type": "code",
     "collapsed": false,
     "input": [
      "import praw\n",
      "from pprint import pprint\n",
      "r = praw.Reddit('Submission variables testing')\n",
      "submission = r.get_submission(submission_id = \"105aru\")\n",
      "pprint(vars(submission))\n"
     ],
     "language": "python",
     "metadata": {},
     "outputs": [
      {
       "output_type": "stream",
       "stream": "stdout",
       "text": [
        "{'_comment_sort': None,\n",
        " '_comments': [<praw.objects.Comment object at 0x11171ca50>,\n",
        "               <praw.objects.Comment object at 0x11171cc10>,\n",
        "               <praw.objects.Comment object at 0x11171c8d0>],\n",
        " '_comments_by_id': {u't1_c6aijmu': <praw.objects.Comment object at 0x11171cc10>,\n",
        "                     u't1_c6ailrj': <praw.objects.Comment object at 0x11171ca50>,\n",
        "                     u't1_c6ailxt': <praw.objects.Comment object at 0x11171c8d0>,\n",
        "                     u't1_c6ak4rq': <praw.objects.Comment object at 0x11171ced0>,\n",
        "                     u't1_c6akq4n': <praw.objects.Comment object at 0x11171cbd0>,\n",
        "                     u't1_c6akv1g': <praw.objects.Comment object at 0x11171cdd0>},\n",
        " '_info_url': 'http://www.reddit.com/api/info/',\n",
        " '_orphaned': {},\n",
        " '_params': {},\n",
        " '_replaced_more': False,\n",
        " '_underscore_names': None,\n",
        " 'approved_by': None,\n",
        " 'archived': True,\n",
        " 'author': Redditor(user_name='Blackshirt12'),\n",
        " 'author_flair_css_class': u'py32bg',\n",
        " 'author_flair_text': u'',\n",
        " 'banned_by': None,\n",
        " 'clicked': False,\n",
        " 'created': 1348081369.0,\n",
        " 'created_utc': 1348077769.0,\n",
        " 'distinguished': None,\n",
        " 'domain': u'self.learnpython',\n",
        " 'downs': 0,\n",
        " 'edited': 1348083784.0,\n",
        " 'gilded': 0,\n",
        " 'has_fetched': True,\n",
        " 'hidden': False,\n",
        " 'id': u'105aru',\n",
        " 'is_self': True,\n",
        " 'json_dict': None,\n",
        " 'likes': None,\n",
        " 'link_flair_css_class': None,\n",
        " 'link_flair_text': None,\n",
        " 'media': None,\n",
        " 'media_embed': {},\n",
        " 'mod_reports': [],\n",
        " 'name': u't3_105aru',\n",
        " 'num_comments': 6,\n",
        " 'num_reports': None,\n",
        " 'over_18': False,\n",
        " 'permalink': u'http://www.reddit.com/r/learnpython/comments/105aru/newbie_stripping_strings_of_last_character/',\n",
        " 'reddit_session': <praw.Reddit object at 0x1116fb810>,\n",
        " 'report_reasons': None,\n",
        " 'saved': False,\n",
        " 'score': 1,\n",
        " 'secure_media': None,\n",
        " 'secure_media_embed': {},\n",
        " 'selftext': u'Update: Thanks for the help. Got fixed.\\n\\nI need to strip 3 strings in a list of 4 of their trailing commas to get my formatting right and to convert one of them (a number) to a float but I\\'m confused on the syntax. Also, I don\\'t know of an efficient way of completing the task; I was planning on stripping each of the three strings on a new line.\\n\\n    for line in gradefile:\\n        linelist = string.split(line)\\n        #strip linelist[0],[1], and [2] of commas\\n        linelist = string.rstrip(linelist[0], \",\")',\n",
        " 'selftext_html': u'&lt;!-- SC_OFF --&gt;&lt;div class=\"md\"&gt;&lt;p&gt;Update: Thanks for the help. Got fixed.&lt;/p&gt;\\n\\n&lt;p&gt;I need to strip 3 strings in a list of 4 of their trailing commas to get my formatting right and to convert one of them (a number) to a float but I&amp;#39;m confused on the syntax. Also, I don&amp;#39;t know of an efficient way of completing the task; I was planning on stripping each of the three strings on a new line.&lt;/p&gt;\\n\\n&lt;pre&gt;&lt;code&gt;for line in gradefile:\\n    linelist = string.split(line)\\n    #strip linelist[0],[1], and [2] of commas\\n    linelist = string.rstrip(linelist[0], &amp;quot;,&amp;quot;)\\n&lt;/code&gt;&lt;/pre&gt;\\n&lt;/div&gt;&lt;!-- SC_ON --&gt;',\n",
        " 'stickied': False,\n",
        " 'subreddit': Subreddit(subreddit_name='learnpython'),\n",
        " 'subreddit_id': u't5_2r8ot',\n",
        " 'thumbnail': u'',\n",
        " 'title': u'Newbie: stripping strings of last character',\n",
        " 'ups': 1,\n",
        " 'upvote_ratio': 1.0,\n",
        " 'url': u'http://www.reddit.com/r/learnpython/comments/105aru/newbie_stripping_strings_of_last_character/',\n",
        " 'user_reports': [],\n",
        " 'visited': False}\n"
       ]
      }
     ],
     "prompt_number": 5
    },
    {
     "cell_type": "code",
     "collapsed": false,
     "input": [
      "import praw\n",
      "\n",
      "r = praw.Reddit('Comment Scraper 1.0 by u/_Daimon_ see '\n",
      "                'https://praw.readthedocs.org/en/latest/'\n",
      "                'pages/comment_parsing.html')\n",
      "r.login('omonoid', 'jake007')\n",
      "submission = r.get_submission(submission_id='11v36o')\n",
      "flat_comments = praw.helpers.flatten_tree(submission.comments)\n",
      "already_done = set()\n",
      "for comment in flat_comments:\n",
      "    if comment.body == \"Hello\" and comment.id not in already_done:\n",
      "        comment.reply(' world!')\n",
      "        already_done.add(comment.id)"
     ],
     "language": "python",
     "metadata": {},
     "outputs": [
      {
       "ename": "AttributeError",
       "evalue": "'<class 'praw.objects.MoreComments'>' has no attribute 'body'",
       "output_type": "pyerr",
       "traceback": [
        "\u001b[0;31m---------------------------------------------------------------------------\u001b[0m\n\u001b[0;31mAttributeError\u001b[0m                            Traceback (most recent call last)",
        "\u001b[0;32m<ipython-input-4-1dfc8e2da57e>\u001b[0m in \u001b[0;36m<module>\u001b[0;34m()\u001b[0m\n\u001b[1;32m      9\u001b[0m \u001b[0malready_done\u001b[0m \u001b[0;34m=\u001b[0m \u001b[0mset\u001b[0m\u001b[0;34m(\u001b[0m\u001b[0;34m)\u001b[0m\u001b[0;34m\u001b[0m\u001b[0m\n\u001b[1;32m     10\u001b[0m \u001b[0;32mfor\u001b[0m \u001b[0mcomment\u001b[0m \u001b[0;32min\u001b[0m \u001b[0mflat_comments\u001b[0m\u001b[0;34m:\u001b[0m\u001b[0;34m\u001b[0m\u001b[0m\n\u001b[0;32m---> 11\u001b[0;31m     \u001b[0;32mif\u001b[0m \u001b[0mcomment\u001b[0m\u001b[0;34m.\u001b[0m\u001b[0mbody\u001b[0m \u001b[0;34m==\u001b[0m \u001b[0;34m\"Hello\"\u001b[0m \u001b[0;32mand\u001b[0m \u001b[0mcomment\u001b[0m\u001b[0;34m.\u001b[0m\u001b[0mid\u001b[0m \u001b[0;32mnot\u001b[0m \u001b[0;32min\u001b[0m \u001b[0malready_done\u001b[0m\u001b[0;34m:\u001b[0m\u001b[0;34m\u001b[0m\u001b[0m\n\u001b[0m\u001b[1;32m     12\u001b[0m         \u001b[0mcomment\u001b[0m\u001b[0;34m.\u001b[0m\u001b[0mreply\u001b[0m\u001b[0;34m(\u001b[0m\u001b[0;34m' world!'\u001b[0m\u001b[0;34m)\u001b[0m\u001b[0;34m\u001b[0m\u001b[0m\n\u001b[1;32m     13\u001b[0m         \u001b[0malready_done\u001b[0m\u001b[0;34m.\u001b[0m\u001b[0madd\u001b[0m\u001b[0;34m(\u001b[0m\u001b[0mcomment\u001b[0m\u001b[0;34m.\u001b[0m\u001b[0mid\u001b[0m\u001b[0;34m)\u001b[0m\u001b[0;34m\u001b[0m\u001b[0m\n",
        "\u001b[0;32m/usr/local/lib/python2.7/site-packages/praw/objects.pyc\u001b[0m in \u001b[0;36m__getattr__\u001b[0;34m(self, attr)\u001b[0m\n\u001b[1;32m     84\u001b[0m             \u001b[0;32mreturn\u001b[0m \u001b[0mgetattr\u001b[0m\u001b[0;34m(\u001b[0m\u001b[0mself\u001b[0m\u001b[0;34m,\u001b[0m \u001b[0mattr\u001b[0m\u001b[0;34m)\u001b[0m\u001b[0;34m\u001b[0m\u001b[0m\n\u001b[1;32m     85\u001b[0m         raise AttributeError('\\'%s\\' has no attribute \\'%s\\'' % (type(self),\n\u001b[0;32m---> 86\u001b[0;31m                                                                  attr))\n\u001b[0m\u001b[1;32m     87\u001b[0m \u001b[0;34m\u001b[0m\u001b[0m\n\u001b[1;32m     88\u001b[0m     \u001b[0;32mdef\u001b[0m \u001b[0m__ne__\u001b[0m\u001b[0;34m(\u001b[0m\u001b[0mself\u001b[0m\u001b[0;34m,\u001b[0m \u001b[0mother\u001b[0m\u001b[0;34m)\u001b[0m\u001b[0;34m:\u001b[0m\u001b[0;34m\u001b[0m\u001b[0m\n",
        "\u001b[0;31mAttributeError\u001b[0m: '<class 'praw.objects.MoreComments'>' has no attribute 'body'"
       ]
      }
     ],
     "prompt_number": 4
    },
    {
     "cell_type": "code",
     "collapsed": false,
     "input": [
      "import praw\n",
      "\n",
      "user_agent = praw.Reddit(\"my_cool_user_agent\")\n",
      "link = \"http://www.reddit.com/r/AdviceAnimals/comments/\" + \\\n",
      "        \"1adu71/apparently_people_still_need_to_hear_this/\"\n",
      "submission = user_agent.get_submission(link)\n",
      "print submission.url\n"
     ],
     "language": "python",
     "metadata": {},
     "outputs": []
    },
    {
     "cell_type": "code",
     "collapsed": false,
     "input": [],
     "language": "python",
     "metadata": {},
     "outputs": []
    }
   ],
   "metadata": {}
  }
 ]
}